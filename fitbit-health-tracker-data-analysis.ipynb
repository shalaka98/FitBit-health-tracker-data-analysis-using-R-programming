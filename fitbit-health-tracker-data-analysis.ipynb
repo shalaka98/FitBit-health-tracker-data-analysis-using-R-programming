{
 "cells": [
  {
   "cell_type": "markdown",
   "id": "614f36af",
   "metadata": {
    "_cell_guid": "6ac80be6-19d0-4564-a3e6-6c515b78250f",
    "_uuid": "c097db37-d2bb-4eba-aef9-2e6cca2b278a",
    "papermill": {
     "duration": 0.00261,
     "end_time": "2024-03-14T16:16:41.647667",
     "exception": false,
     "start_time": "2024-03-14T16:16:41.645057",
     "status": "completed"
    },
    "tags": []
   },
   "source": [
    "**Introduction:**\n",
    "In this project, fitbit heath tracker data is analyzed with R programming and\n",
    "A graphical representation is made illustrating the correlation between daily walking exercise and the resulting calories burned in the body, demonstrating the impact of physical activity on metabolic expenditure."
   ]
  },
  {
   "cell_type": "markdown",
   "id": "98cf9d09",
   "metadata": {
    "_cell_guid": "7ba24391-6f1d-45e0-9aab-85912d5adf00",
    "_uuid": "8babf154-43c3-4125-a66d-850063ebb500",
    "papermill": {
     "duration": 0.001973,
     "end_time": "2024-03-14T16:16:41.651853",
     "exception": false,
     "start_time": "2024-03-14T16:16:41.649880",
     "status": "completed"
    },
    "tags": []
   },
   "source": [
    ">  Data source: /kaggle/input/fitbit"
   ]
  },
  {
   "cell_type": "code",
   "execution_count": 1,
   "id": "0452a5d6",
   "metadata": {
    "_cell_guid": "e6bcaedc-7da5-4878-b5be-f81047202d33",
    "_uuid": "8865a0d5-b314-4a12-b4df-09c127138a85",
    "collapsed": false,
    "execution": {
     "iopub.execute_input": "2024-03-14T16:16:41.660153Z",
     "iopub.status.busy": "2024-03-14T16:16:41.658175Z",
     "iopub.status.idle": "2024-03-14T16:16:42.768509Z",
     "shell.execute_reply": "2024-03-14T16:16:42.766457Z"
    },
    "jupyter": {
     "outputs_hidden": false
    },
    "papermill": {
     "duration": 1.117374,
     "end_time": "2024-03-14T16:16:42.771174",
     "exception": false,
     "start_time": "2024-03-14T16:16:41.653800",
     "status": "completed"
    },
    "tags": []
   },
   "outputs": [
    {
     "name": "stderr",
     "output_type": "stream",
     "text": [
      "── \u001b[1mAttaching core tidyverse packages\u001b[22m ──────────────────────── tidyverse 2.0.0 ──\n",
      "\u001b[32m✔\u001b[39m \u001b[34mdplyr    \u001b[39m 1.1.4     \u001b[32m✔\u001b[39m \u001b[34mreadr    \u001b[39m 2.1.4\n",
      "\u001b[32m✔\u001b[39m \u001b[34mforcats  \u001b[39m 1.0.0     \u001b[32m✔\u001b[39m \u001b[34mstringr  \u001b[39m 1.5.1\n",
      "\u001b[32m✔\u001b[39m \u001b[34mggplot2  \u001b[39m 3.4.4     \u001b[32m✔\u001b[39m \u001b[34mtibble   \u001b[39m 3.2.1\n",
      "\u001b[32m✔\u001b[39m \u001b[34mlubridate\u001b[39m 1.9.3     \u001b[32m✔\u001b[39m \u001b[34mtidyr    \u001b[39m 1.3.0\n",
      "\u001b[32m✔\u001b[39m \u001b[34mpurrr    \u001b[39m 1.0.2     \n",
      "── \u001b[1mConflicts\u001b[22m ────────────────────────────────────────── tidyverse_conflicts() ──\n",
      "\u001b[31m✖\u001b[39m \u001b[34mdplyr\u001b[39m::\u001b[32mfilter()\u001b[39m masks \u001b[34mstats\u001b[39m::filter()\n",
      "\u001b[31m✖\u001b[39m \u001b[34mdplyr\u001b[39m::\u001b[32mlag()\u001b[39m    masks \u001b[34mstats\u001b[39m::lag()\n",
      "\u001b[36mℹ\u001b[39m Use the conflicted package (\u001b[3m\u001b[34m<http://conflicted.r-lib.org/>\u001b[39m\u001b[23m) to force all conflicts to become errors\n"
     ]
    },
    {
     "data": {
      "text/html": [
       "<table class=\"dataframe\">\n",
       "<caption>A data.frame: 6 × 15</caption>\n",
       "<thead>\n",
       "\t<tr><th></th><th scope=col>Id</th><th scope=col>ActivityDate</th><th scope=col>TotalSteps</th><th scope=col>TotalDistance</th><th scope=col>TrackerDistance</th><th scope=col>LoggedActivitiesDistance</th><th scope=col>VeryActiveDistance</th><th scope=col>ModeratelyActiveDistance</th><th scope=col>LightActiveDistance</th><th scope=col>SedentaryActiveDistance</th><th scope=col>VeryActiveMinutes</th><th scope=col>FairlyActiveMinutes</th><th scope=col>LightlyActiveMinutes</th><th scope=col>SedentaryMinutes</th><th scope=col>Calories</th></tr>\n",
       "\t<tr><th></th><th scope=col>&lt;dbl&gt;</th><th scope=col>&lt;chr&gt;</th><th scope=col>&lt;int&gt;</th><th scope=col>&lt;dbl&gt;</th><th scope=col>&lt;dbl&gt;</th><th scope=col>&lt;dbl&gt;</th><th scope=col>&lt;dbl&gt;</th><th scope=col>&lt;dbl&gt;</th><th scope=col>&lt;dbl&gt;</th><th scope=col>&lt;dbl&gt;</th><th scope=col>&lt;int&gt;</th><th scope=col>&lt;int&gt;</th><th scope=col>&lt;int&gt;</th><th scope=col>&lt;int&gt;</th><th scope=col>&lt;int&gt;</th></tr>\n",
       "</thead>\n",
       "<tbody>\n",
       "\t<tr><th scope=row>1</th><td>1503960366</td><td>04-12-2016</td><td>13162</td><td>8.50</td><td>8.50</td><td>0</td><td>1.88</td><td>0.55</td><td>6.06</td><td>0</td><td>25</td><td>13</td><td>328</td><td> 728</td><td>1985</td></tr>\n",
       "\t<tr><th scope=row>2</th><td>1503960366</td><td>4/13/2016 </td><td>10735</td><td>6.97</td><td>6.97</td><td>0</td><td>1.57</td><td>0.69</td><td>4.71</td><td>0</td><td>21</td><td>19</td><td>217</td><td> 776</td><td>1797</td></tr>\n",
       "\t<tr><th scope=row>3</th><td>1503960366</td><td>4/14/2016 </td><td>10460</td><td>6.74</td><td>6.74</td><td>0</td><td>2.44</td><td>0.40</td><td>3.91</td><td>0</td><td>30</td><td>11</td><td>181</td><td>1218</td><td>1776</td></tr>\n",
       "\t<tr><th scope=row>4</th><td>1503960366</td><td>4/15/2016 </td><td> 9762</td><td>6.28</td><td>6.28</td><td>0</td><td>2.14</td><td>1.26</td><td>2.83</td><td>0</td><td>29</td><td>34</td><td>209</td><td> 726</td><td>1745</td></tr>\n",
       "\t<tr><th scope=row>5</th><td>1503960366</td><td>4/16/2016 </td><td>12669</td><td>8.16</td><td>8.16</td><td>0</td><td>2.71</td><td>0.41</td><td>5.04</td><td>0</td><td>36</td><td>10</td><td>221</td><td> 773</td><td>1863</td></tr>\n",
       "\t<tr><th scope=row>6</th><td>1503960366</td><td>4/17/2016 </td><td> 9705</td><td>6.48</td><td>6.48</td><td>0</td><td>3.19</td><td>0.78</td><td>2.51</td><td>0</td><td>38</td><td>20</td><td>164</td><td> 539</td><td>1728</td></tr>\n",
       "</tbody>\n",
       "</table>\n"
      ],
      "text/latex": [
       "A data.frame: 6 × 15\n",
       "\\begin{tabular}{r|lllllllllllllll}\n",
       "  & Id & ActivityDate & TotalSteps & TotalDistance & TrackerDistance & LoggedActivitiesDistance & VeryActiveDistance & ModeratelyActiveDistance & LightActiveDistance & SedentaryActiveDistance & VeryActiveMinutes & FairlyActiveMinutes & LightlyActiveMinutes & SedentaryMinutes & Calories\\\\\n",
       "  & <dbl> & <chr> & <int> & <dbl> & <dbl> & <dbl> & <dbl> & <dbl> & <dbl> & <dbl> & <int> & <int> & <int> & <int> & <int>\\\\\n",
       "\\hline\n",
       "\t1 & 1503960366 & 04-12-2016 & 13162 & 8.50 & 8.50 & 0 & 1.88 & 0.55 & 6.06 & 0 & 25 & 13 & 328 &  728 & 1985\\\\\n",
       "\t2 & 1503960366 & 4/13/2016  & 10735 & 6.97 & 6.97 & 0 & 1.57 & 0.69 & 4.71 & 0 & 21 & 19 & 217 &  776 & 1797\\\\\n",
       "\t3 & 1503960366 & 4/14/2016  & 10460 & 6.74 & 6.74 & 0 & 2.44 & 0.40 & 3.91 & 0 & 30 & 11 & 181 & 1218 & 1776\\\\\n",
       "\t4 & 1503960366 & 4/15/2016  &  9762 & 6.28 & 6.28 & 0 & 2.14 & 1.26 & 2.83 & 0 & 29 & 34 & 209 &  726 & 1745\\\\\n",
       "\t5 & 1503960366 & 4/16/2016  & 12669 & 8.16 & 8.16 & 0 & 2.71 & 0.41 & 5.04 & 0 & 36 & 10 & 221 &  773 & 1863\\\\\n",
       "\t6 & 1503960366 & 4/17/2016  &  9705 & 6.48 & 6.48 & 0 & 3.19 & 0.78 & 2.51 & 0 & 38 & 20 & 164 &  539 & 1728\\\\\n",
       "\\end{tabular}\n"
      ],
      "text/markdown": [
       "\n",
       "A data.frame: 6 × 15\n",
       "\n",
       "| <!--/--> | Id &lt;dbl&gt; | ActivityDate &lt;chr&gt; | TotalSteps &lt;int&gt; | TotalDistance &lt;dbl&gt; | TrackerDistance &lt;dbl&gt; | LoggedActivitiesDistance &lt;dbl&gt; | VeryActiveDistance &lt;dbl&gt; | ModeratelyActiveDistance &lt;dbl&gt; | LightActiveDistance &lt;dbl&gt; | SedentaryActiveDistance &lt;dbl&gt; | VeryActiveMinutes &lt;int&gt; | FairlyActiveMinutes &lt;int&gt; | LightlyActiveMinutes &lt;int&gt; | SedentaryMinutes &lt;int&gt; | Calories &lt;int&gt; |\n",
       "|---|---|---|---|---|---|---|---|---|---|---|---|---|---|---|---|\n",
       "| 1 | 1503960366 | 04-12-2016 | 13162 | 8.50 | 8.50 | 0 | 1.88 | 0.55 | 6.06 | 0 | 25 | 13 | 328 |  728 | 1985 |\n",
       "| 2 | 1503960366 | 4/13/2016  | 10735 | 6.97 | 6.97 | 0 | 1.57 | 0.69 | 4.71 | 0 | 21 | 19 | 217 |  776 | 1797 |\n",
       "| 3 | 1503960366 | 4/14/2016  | 10460 | 6.74 | 6.74 | 0 | 2.44 | 0.40 | 3.91 | 0 | 30 | 11 | 181 | 1218 | 1776 |\n",
       "| 4 | 1503960366 | 4/15/2016  |  9762 | 6.28 | 6.28 | 0 | 2.14 | 1.26 | 2.83 | 0 | 29 | 34 | 209 |  726 | 1745 |\n",
       "| 5 | 1503960366 | 4/16/2016  | 12669 | 8.16 | 8.16 | 0 | 2.71 | 0.41 | 5.04 | 0 | 36 | 10 | 221 |  773 | 1863 |\n",
       "| 6 | 1503960366 | 4/17/2016  |  9705 | 6.48 | 6.48 | 0 | 3.19 | 0.78 | 2.51 | 0 | 38 | 20 | 164 |  539 | 1728 |\n",
       "\n"
      ],
      "text/plain": [
       "  Id         ActivityDate TotalSteps TotalDistance TrackerDistance\n",
       "1 1503960366 04-12-2016   13162      8.50          8.50           \n",
       "2 1503960366 4/13/2016    10735      6.97          6.97           \n",
       "3 1503960366 4/14/2016    10460      6.74          6.74           \n",
       "4 1503960366 4/15/2016     9762      6.28          6.28           \n",
       "5 1503960366 4/16/2016    12669      8.16          8.16           \n",
       "6 1503960366 4/17/2016     9705      6.48          6.48           \n",
       "  LoggedActivitiesDistance VeryActiveDistance ModeratelyActiveDistance\n",
       "1 0                        1.88               0.55                    \n",
       "2 0                        1.57               0.69                    \n",
       "3 0                        2.44               0.40                    \n",
       "4 0                        2.14               1.26                    \n",
       "5 0                        2.71               0.41                    \n",
       "6 0                        3.19               0.78                    \n",
       "  LightActiveDistance SedentaryActiveDistance VeryActiveMinutes\n",
       "1 6.06                0                       25               \n",
       "2 4.71                0                       21               \n",
       "3 3.91                0                       30               \n",
       "4 2.83                0                       29               \n",
       "5 5.04                0                       36               \n",
       "6 2.51                0                       38               \n",
       "  FairlyActiveMinutes LightlyActiveMinutes SedentaryMinutes Calories\n",
       "1 13                  328                   728             1985    \n",
       "2 19                  217                   776             1797    \n",
       "3 11                  181                  1218             1776    \n",
       "4 34                  209                   726             1745    \n",
       "5 10                  221                   773             1863    \n",
       "6 20                  164                   539             1728    "
      ]
     },
     "metadata": {},
     "output_type": "display_data"
    }
   ],
   "source": [
    "#Package Loading\n",
    "library(tidyverse)\n",
    "\n",
    "#Data upload\n",
    "dailyactivity <- read.csv(\"/kaggle/input/dailyactivity/dailyactivity_merged _original.csv\")\n",
    "\n",
    "head(dailyactivity)"
   ]
  },
  {
   "cell_type": "code",
   "execution_count": 2,
   "id": "310529d5",
   "metadata": {
    "_cell_guid": "e6bcaedc-7da5-4878-b5be-f81047202d33",
    "_uuid": "8865a0d5-b314-4a12-b4df-09c127138a85",
    "collapsed": false,
    "execution": {
     "iopub.execute_input": "2024-03-14T16:16:42.801774Z",
     "iopub.status.busy": "2024-03-14T16:16:42.778030Z",
     "iopub.status.idle": "2024-03-14T16:16:42.875710Z",
     "shell.execute_reply": "2024-03-14T16:16:42.873767Z"
    },
    "jupyter": {
     "outputs_hidden": false
    },
    "papermill": {
     "duration": 0.104309,
     "end_time": "2024-03-14T16:16:42.878039",
     "exception": false,
     "start_time": "2024-03-14T16:16:42.773730",
     "status": "completed"
    },
    "tags": []
   },
   "outputs": [
    {
     "data": {
      "text/html": [
       "<table class=\"dataframe\">\n",
       "<caption>A data.frame: 6 × 4</caption>\n",
       "<thead>\n",
       "\t<tr><th></th><th scope=col>Id</th><th scope=col>TotalSteps</th><th scope=col>Calories</th><th scope=col>ActivityDate</th></tr>\n",
       "\t<tr><th></th><th scope=col>&lt;dbl&gt;</th><th scope=col>&lt;int&gt;</th><th scope=col>&lt;int&gt;</th><th scope=col>&lt;date&gt;</th></tr>\n",
       "</thead>\n",
       "<tbody>\n",
       "\t<tr><th scope=row>1</th><td>1503960366</td><td>13162</td><td>1985</td><td>4-12-20</td></tr>\n",
       "\t<tr><th scope=row>2</th><td>1503960366</td><td>10735</td><td>1797</td><td>NA</td></tr>\n",
       "\t<tr><th scope=row>3</th><td>1503960366</td><td>10460</td><td>1776</td><td>NA</td></tr>\n",
       "\t<tr><th scope=row>4</th><td>1503960366</td><td> 9762</td><td>1745</td><td>NA</td></tr>\n",
       "\t<tr><th scope=row>5</th><td>1503960366</td><td>12669</td><td>1863</td><td>NA</td></tr>\n",
       "\t<tr><th scope=row>6</th><td>1503960366</td><td> 9705</td><td>1728</td><td>NA</td></tr>\n",
       "</tbody>\n",
       "</table>\n"
      ],
      "text/latex": [
       "A data.frame: 6 × 4\n",
       "\\begin{tabular}{r|llll}\n",
       "  & Id & TotalSteps & Calories & ActivityDate\\\\\n",
       "  & <dbl> & <int> & <int> & <date>\\\\\n",
       "\\hline\n",
       "\t1 & 1503960366 & 13162 & 1985 & 4-12-20\\\\\n",
       "\t2 & 1503960366 & 10735 & 1797 & NA\\\\\n",
       "\t3 & 1503960366 & 10460 & 1776 & NA\\\\\n",
       "\t4 & 1503960366 &  9762 & 1745 & NA\\\\\n",
       "\t5 & 1503960366 & 12669 & 1863 & NA\\\\\n",
       "\t6 & 1503960366 &  9705 & 1728 & NA\\\\\n",
       "\\end{tabular}\n"
      ],
      "text/markdown": [
       "\n",
       "A data.frame: 6 × 4\n",
       "\n",
       "| <!--/--> | Id &lt;dbl&gt; | TotalSteps &lt;int&gt; | Calories &lt;int&gt; | ActivityDate &lt;date&gt; |\n",
       "|---|---|---|---|---|\n",
       "| 1 | 1503960366 | 13162 | 1985 | 4-12-20 |\n",
       "| 2 | 1503960366 | 10735 | 1797 | NA |\n",
       "| 3 | 1503960366 | 10460 | 1776 | NA |\n",
       "| 4 | 1503960366 |  9762 | 1745 | NA |\n",
       "| 5 | 1503960366 | 12669 | 1863 | NA |\n",
       "| 6 | 1503960366 |  9705 | 1728 | NA |\n",
       "\n"
      ],
      "text/plain": [
       "  Id         TotalSteps Calories ActivityDate\n",
       "1 1503960366 13162      1985     4-12-20     \n",
       "2 1503960366 10735      1797     <NA>        \n",
       "3 1503960366 10460      1776     <NA>        \n",
       "4 1503960366  9762      1745     <NA>        \n",
       "5 1503960366 12669      1863     <NA>        \n",
       "6 1503960366  9705      1728     <NA>        "
      ]
     },
     "metadata": {},
     "output_type": "display_data"
    }
   ],
   "source": [
    "# Cleaning\n",
    "## New table\n",
    "steps_vs_calories <- dailyactivity %>% \n",
    "  select(Id, TotalSteps, Calories, ActivityDate)\n",
    "\n",
    "## Convert ActivityDate to Date\n",
    "steps_vs_calories$ActivityDate <- as.Date(steps_vs_calories$ActivityDate, format = \"%Y-%m-%d\")\n",
    "\n",
    "## Remove rows with 0 steps\n",
    "filtered_steps_vs_calories <- steps_vs_calories %>%\n",
    "  filter(TotalSteps != 0)\n",
    "\n",
    "# Displaythe data\n",
    "head(filtered_steps_vs_calories)"
   ]
  },
  {
   "cell_type": "code",
   "execution_count": 3,
   "id": "ab4f3878",
   "metadata": {
    "_cell_guid": "e6bcaedc-7da5-4878-b5be-f81047202d33",
    "_uuid": "8865a0d5-b314-4a12-b4df-09c127138a85",
    "collapsed": false,
    "execution": {
     "iopub.execute_input": "2024-03-14T16:16:42.887670Z",
     "iopub.status.busy": "2024-03-14T16:16:42.886466Z",
     "iopub.status.idle": "2024-03-14T16:16:42.929701Z",
     "shell.execute_reply": "2024-03-14T16:16:42.927841Z"
    },
    "jupyter": {
     "outputs_hidden": false
    },
    "papermill": {
     "duration": 0.051435,
     "end_time": "2024-03-14T16:16:42.932200",
     "exception": false,
     "start_time": "2024-03-14T16:16:42.880765",
     "status": "completed"
    },
    "tags": []
   },
   "outputs": [
    {
     "data": {
      "text/html": [
       "<table class=\"dataframe\">\n",
       "<caption>A tibble: 6 × 3</caption>\n",
       "<thead>\n",
       "\t<tr><th scope=col>ActivityDate</th><th scope=col>total_cal</th><th scope=col>total_steps</th></tr>\n",
       "\t<tr><th scope=col>&lt;date&gt;</th><th scope=col>&lt;dbl&gt;</th><th scope=col>&lt;dbl&gt;</th></tr>\n",
       "</thead>\n",
       "<tbody>\n",
       "\t<tr><td>4-12-20</td><td>2437.290</td><td>8768.258</td></tr>\n",
       "\t<tr><td>5-01-20</td><td>2247.000</td><td>7388.214</td></tr>\n",
       "\t<tr><td>5-02-20</td><td>2325.889</td><td>7571.630</td></tr>\n",
       "\t<tr><td>5-03-20</td><td>2488.107</td><td>8864.393</td></tr>\n",
       "\t<tr><td>5-04-20</td><td>2326.407</td><td>7264.778</td></tr>\n",
       "\t<tr><td>5-05-20</td><td>2478.654</td><td>9738.462</td></tr>\n",
       "</tbody>\n",
       "</table>\n"
      ],
      "text/latex": [
       "A tibble: 6 × 3\n",
       "\\begin{tabular}{lll}\n",
       " ActivityDate & total\\_cal & total\\_steps\\\\\n",
       " <date> & <dbl> & <dbl>\\\\\n",
       "\\hline\n",
       "\t 4-12-20 & 2437.290 & 8768.258\\\\\n",
       "\t 5-01-20 & 2247.000 & 7388.214\\\\\n",
       "\t 5-02-20 & 2325.889 & 7571.630\\\\\n",
       "\t 5-03-20 & 2488.107 & 8864.393\\\\\n",
       "\t 5-04-20 & 2326.407 & 7264.778\\\\\n",
       "\t 5-05-20 & 2478.654 & 9738.462\\\\\n",
       "\\end{tabular}\n"
      ],
      "text/markdown": [
       "\n",
       "A tibble: 6 × 3\n",
       "\n",
       "| ActivityDate &lt;date&gt; | total_cal &lt;dbl&gt; | total_steps &lt;dbl&gt; |\n",
       "|---|---|---|\n",
       "| 4-12-20 | 2437.290 | 8768.258 |\n",
       "| 5-01-20 | 2247.000 | 7388.214 |\n",
       "| 5-02-20 | 2325.889 | 7571.630 |\n",
       "| 5-03-20 | 2488.107 | 8864.393 |\n",
       "| 5-04-20 | 2326.407 | 7264.778 |\n",
       "| 5-05-20 | 2478.654 | 9738.462 |\n",
       "\n"
      ],
      "text/plain": [
       "  ActivityDate total_cal total_steps\n",
       "1 4-12-20      2437.290  8768.258   \n",
       "2 5-01-20      2247.000  7388.214   \n",
       "3 5-02-20      2325.889  7571.630   \n",
       "4 5-03-20      2488.107  8864.393   \n",
       "5 5-04-20      2326.407  7264.778   \n",
       "6 5-05-20      2478.654  9738.462   "
      ]
     },
     "metadata": {},
     "output_type": "display_data"
    },
    {
     "data": {
      "text/html": [
       "113521.571821393"
      ],
      "text/latex": [
       "113521.571821393"
      ],
      "text/markdown": [
       "113521.571821393"
      ],
      "text/plain": [
       "[1] 113521.6"
      ]
     },
     "metadata": {},
     "output_type": "display_data"
    }
   ],
   "source": [
    "# Grouping Ids and mean of steps and calories \n",
    "final_steps_vs_calories <- filtered_steps_vs_calories %>% \n",
    "  group_by( ActivityDate) %>% \n",
    "  summarise(total_cal = mean(Calories), total_steps = mean(TotalSteps)) \n",
    "head(final_steps_vs_calories)\n",
    "\n",
    "# extra: For comparison with Excel results\n",
    "sum(final_steps_vs_calories$total_steps)\n"
   ]
  },
  {
   "cell_type": "code",
   "execution_count": 4,
   "id": "5602e1ab",
   "metadata": {
    "_cell_guid": "e6bcaedc-7da5-4878-b5be-f81047202d33",
    "_uuid": "8865a0d5-b314-4a12-b4df-09c127138a85",
    "collapsed": false,
    "execution": {
     "iopub.execute_input": "2024-03-14T16:16:42.940901Z",
     "iopub.status.busy": "2024-03-14T16:16:42.939673Z",
     "iopub.status.idle": "2024-03-14T16:16:44.585768Z",
     "shell.execute_reply": "2024-03-14T16:16:44.583818Z"
    },
    "jupyter": {
     "outputs_hidden": false
    },
    "papermill": {
     "duration": 1.653224,
     "end_time": "2024-03-14T16:16:44.588410",
     "exception": false,
     "start_time": "2024-03-14T16:16:42.935186",
     "status": "completed"
    },
    "tags": []
   },
   "outputs": [
    {
     "data": {
      "image/png": "[encoded data removed]"
     },
     "metadata": {
      "image/png": {
       "height": 420,
       "width": 420
      }
     },
     "output_type": "display_data"
    }
   ],
   "source": [
    "# Graphical Illustration\n",
    "p <- ggplot(final_steps_vs_calories, aes(x = total_steps, y=total_cal))\n",
    "p + geom_point()+ geom_smooth(method = 'loess', formula = y ~ x)+ geom_jitter() + \n",
    "  labs(title = \"Average steps vs Calories expenditure\", \n",
    "       subtitle = \"from 12/04/16 to 12/05/16\", x= \"Average steps\", y= \"calories expenditure\")"
   ]
  },
  {
   "cell_type": "markdown",
   "id": "13f0325d",
   "metadata": {
    "_cell_guid": "fb320c65-af30-4b07-a1a8-fcc45b8e5bc4",
    "_uuid": "8c4abb8e-8b82-4ff0-9e6c-d61c2a9e30cb",
    "papermill": {
     "duration": 0.003637,
     "end_time": "2024-03-14T16:16:44.595910",
     "exception": false,
     "start_time": "2024-03-14T16:16:44.592273",
     "status": "completed"
    },
    "tags": []
   },
   "source": [
    "**Conclusions:**\n",
    "My analysis reveals a clear correlation between daily walking exercise and calories burned, emphasizing the importance of physical activity for metabolic health. Increasing daily steps can lead to greater calorie expenditure, promoting overall fitness and weight management. This underscores the value of incorporating regular exercise into daily routines for improved well-being."
   ]
  }
 ],
 "metadata": {
  "kaggle": {
   "accelerator": "none",
   "dataSources": [
    {
     "datasetId": 1041311,
     "sourceId": 7746251,
     "sourceType": "datasetVersion"
    },
    {
     "datasetId": 4598378,
     "sourceId": 7843158,
     "sourceType": "datasetVersion"
    }
   ],
   "isGpuEnabled": false,
   "isInternetEnabled": false,
   "language": "r",
   "sourceType": "notebook"
  },
  "kernelspec": {
   "display_name": "R",
   "language": "R",
   "name": "ir"
  },
  "language_info": {
   "codemirror_mode": "r",
   "file_extension": ".r",
   "mimetype": "text/x-r-source",
   "name": "R",
   "pygments_lexer": "r",
   "version": "4.0.5"
  },
  "papermill": {
   "default_parameters": {},
   "duration": 6.338963,
   "end_time": "2024-03-14T16:16:44.719984",
   "environment_variables": {},
   "exception": null,
   "input_path": "__notebook__.ipynb",
   "output_path": "__notebook__.ipynb",
   "parameters": {},
   "start_time": "2024-03-14T16:16:38.381021",
   "version": "2.5.0"
  }
 },
 "nbformat": 4,
 "nbformat_minor": 5
}
